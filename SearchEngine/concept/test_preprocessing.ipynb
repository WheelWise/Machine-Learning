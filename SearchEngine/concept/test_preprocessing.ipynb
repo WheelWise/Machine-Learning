{
 "cells": [
  {
   "cell_type": "code",
   "execution_count": 1,
   "outputs": [
    {
     "name": "stderr",
     "output_type": "stream",
     "text": [
      "[nltk_data] Downloading package wordnet to\n",
      "[nltk_data]     C:\\Users\\rodrimen\\AppData\\Roaming\\nltk_data...\n",
      "[nltk_data]   Package wordnet is already up-to-date!\n",
      "[nltk_data] Downloading package stopwords to\n",
      "[nltk_data]     C:\\Users\\rodrimen\\AppData\\Roaming\\nltk_data...\n",
      "[nltk_data]   Package stopwords is already up-to-date!\n"
     ]
    }
   ],
   "source": [
    "from preprocessing import Preprocessing\n",
    "import timeit"
   ],
   "metadata": {
    "collapsed": false,
    "pycharm": {
     "name": "#%%\n"
    }
   }
  },
  {
   "cell_type": "code",
   "execution_count": 2,
   "outputs": [],
   "source": [
    "from similarity import Similarity"
   ],
   "metadata": {
    "collapsed": false,
    "pycharm": {
     "name": "#%%\n"
    }
   }
  },
  {
   "cell_type": "code",
   "execution_count": 3,
   "outputs": [],
   "source": [
    "preprocessing = Preprocessing()\n",
    "similarity = Similarity()\n",
    "# preprocessing.transformation.first_load()"
   ],
   "metadata": {
    "collapsed": false,
    "pycharm": {
     "name": "#%%\n"
    }
   }
  },
  {
   "cell_type": "code",
   "execution_count": 4,
   "outputs": [
    {
     "name": "stdout",
     "output_type": "stream",
     "text": [
      "2.750328800000716\n",
      "Prompt: Camioneta pickup roja con capacidad de carga y remolque y características de trabajo pesado.\n",
      "Modified prompt: camioneta pickup rojo carga remolque pesado\n"
     ]
    }
   ],
   "source": [
    "prompt = 'Camioneta pickup roja con capacidad de carga y remolque y características de trabajo pesado.'\n",
    "start = timeit.default_timer()\n",
    "modified_prompt = preprocessing.transform_prompt_without_stem(prompt)\n",
    "end = timeit.default_timer()\n",
    "print(end - start)\n",
    "print(f\"Prompt: {prompt}\")\n",
    "print(f\"Modified prompt: {modified_prompt}\")"
   ],
   "metadata": {
    "collapsed": false,
    "pycharm": {
     "name": "#%%\n"
    }
   }
  },
  {
   "cell_type": "code",
   "execution_count": 5,
   "outputs": [],
   "source": [
    "sentences = [\n",
    "    \"El sedán deportivo Audi A4 es elegante y aerodinámico, con líneas fluidas que le otorgan un aspecto moderno. Año: 2022\",\n",
    "    \"El SUV familiar Toyota Highlander es espacioso y versátil, ideal para viajes en familia o aventuras al aire libre. Año: 2021\",\n",
    "    \"El hatchback compacto Volkswagen Golf es ágil y perfecto para la conducción en la ciudad. Año: 2023\",\n",
    "    \"La camioneta todoterreno Jeep Wrangler es robusta y resistente, diseñada para superar terrenos difíciles. Año: 2022\",\n",
    "    \"El convertible Mazda MX-5 Miata es elegante y emocionante, con la opción de disfrutar de la conducción al aire libre. Año: 2023\",\n",
    "    \"El carro eléctrico Tesla Model S es una opción ecológica, con cero emisiones y un rendimiento eficiente. Año: 2022\",\n",
    "    \"El coupé deportivo BMW M4 es elegante y aerodinámico, con un rendimiento potente y una apariencia llamativa que atrae todas las miradas. Año: 2023\",\n",
    "    \"La camioneta pickup Ford F-150 es resistente y versátil, ideal para trabajos pesados y transportar carga. Año: 2021\",\n",
    "    \"El compacto híbrido Toyota Prius combina un motor de gasolina y un motor eléctrico para lograr un rendimiento económico. Año: 2022\",\n",
    "    \"El descapotable clásico Volkswagen Beetle evoca la nostalgia y el estilo vintage, perfecto para paseos escénicos. Año: 2019\",\n",
    "    \"El sedán deportivo BMW 3 Series es elegante y aerodinámico, con líneas fluidas y un rendimiento excepcional. Año: 2023\",\n",
    "    \"El SUV familiar Honda CR-V es espacioso y versátil, con una gran capacidad de carga y características de seguridad avanzadas. Año: 2022\",\n",
    "    \"El hatchback compacto Ford Focus es ágil y divertido de conducir, con tecnología innovadora y eficiencia en el consumo de combustible. Año: 2021\",\n",
    "    \"La camioneta todoterreno Toyota 4Runner es resistente y capaz de enfrentar terrenos accidentados, con tracción en las cuatro ruedas y una gran capacidad de remolque. Año: 2022\",\n",
    "    \"El convertible Mercedes-Benz E-Class es elegante y lujoso, con un techo retráctil y un interior refinado. Año: 2023\",\n",
    "    \"El carro eléctrico Nissan Leaf es ecológico y eficiente, con una autonomía amplia y características avanzadas de carga. Año: 2022\",\n",
    "    \"El coupé deportivo Chevrolet Camaro es potente y llamativo, con un estilo retro y un rendimiento emocionante. Año: 2023\",\n",
    "    \"La camioneta pickup Ram 1500 es resistente y versátil, con opciones de motores potentes y un interior espacioso. Año: 2021\",\n",
    "    \"El compacto híbrido Toyota Corolla Hybrid combina un motor de gasolina y un motor eléctrico para lograr una eficiencia excepcional. Año: 2022\",\n",
    "    \"El descapotable clásico Ford Mustang es icónico y atemporal, con un diseño elegante y un motor potente. Año: 2023\",\n",
    "]"
   ],
   "metadata": {
    "collapsed": false,
    "pycharm": {
     "name": "#%%\n"
    }
   }
  },
  {
   "cell_type": "code",
   "execution_count": 6,
   "outputs": [
    {
     "data": {
      "text/plain": "['sedan deportivo audi elegante aerodinamico linea fluido otorgar aspecto moderno año 2022',\n 'suv familiar toyota highlander espacioso versatil ideal viaje familia aventura aire libre año 2021',\n 'hatchback compacto volkswagen golf agil perfecto conduccion ciudad año 2023',\n 'camioneta todoterreno jeep wrangler robusta resistente diseñado superar terreno dificil año 2022',\n 'convertible mazda mxn miata elegante emocionante opcion disfrutar conduccion aire libre año 2023',\n 'carro electrico tesla model opcion ecologicar cero emisionser rendimiento eficiente año 2022',\n 'cupe deportivo bmw elegante aerodinamico rendimiento poderoso apariencia llamativo atraer mirada año 2023',\n 'camioneta pickup ford f150 resistente versatil ideal pesado transportar carga año 2021',\n 'compacto hibrido toyota prius combin motor gasolina motor electrico lograr rendimiento economico año 2022',\n 'descapotable clasico volkswagen beetle evoco nostalgia vintage perfecto paseo escenico año 2019',\n 'sedan deportivo bmw 3 series elegante aerodinamico line fluido rendimiento excepcional año 2023',\n 'suv familiar honda crm espacioso versatil carga seguridad año 2022',\n 'hatchback compacto ford focus agil divertido conducir tecnologia innovadoro eficiencia consumo combustible año 2021',\n 'camioneta todoterreno toyota 4runner resistente capaz enfrentar terreno accidentado traccion rueda remolcar año 2022',\n 'convertible mercedes benz elegante lujoso techo retractil interior refinado año 2023',\n 'carro electrico nissan leaf ecologico eficiente autonomia amplio carga año 2022',\n 'cupe deportivo chevrolet camaro poderoso llamativo retro rendimiento emocionante año 2023',\n 'camioneta pickup ram 1500 resistente versatil opcion motor potente interior espacioso año 2021',\n 'compacto hibrido toyota corolla hybrid combinar motor gasolina motor electrico lograr eficiencia excepcional año 2022',\n 'descapotable clasico ford mustang iconico atemporal diseño elegante motor poderoso año 2023']"
     },
     "execution_count": 6,
     "metadata": {},
     "output_type": "execute_result"
    }
   ],
   "source": [
    "preprocessed_prompts = []\n",
    "for sentence in sentences:\n",
    "    preprocessed_prompts.append(preprocessing.transform_prompt_without_stem(sentence))\n",
    "preprocessed_prompts"
   ],
   "metadata": {
    "collapsed": false,
    "pycharm": {
     "name": "#%%\n"
    }
   }
  },
  {
   "cell_type": "code",
   "execution_count": 7,
   "outputs": [
    {
     "data": {
      "text/plain": "'carro verde hibrido alto eficiencia combustible ecologica'"
     },
     "execution_count": 7,
     "metadata": {},
     "output_type": "execute_result"
    }
   ],
   "source": [
    "prompt = 'Coche verde híbrido con alta eficiencia de combustible y características ecológicas.'\n",
    "modified_prompt = preprocessing.transform_prompt_without_stem(prompt)\n",
    "modified_prompt"
   ],
   "metadata": {
    "collapsed": false,
    "pycharm": {
     "name": "#%%\n"
    }
   }
  },
  {
   "cell_type": "code",
   "execution_count": 8,
   "outputs": [
    {
     "name": "stdout",
     "output_type": "stream",
     "text": [
      "===============\n",
      "String : Coche verde híbrido con alta eficiencia de combustible y características ecológicas.\n",
      "El compacto híbrido Toyota Corolla Hybrid combina un motor de gasolina y un motor eléctrico para lograr una eficiencia excepcional. Año: 2022 - 0.5940914154052734\n",
      "El compacto híbrido Toyota Prius combina un motor de gasolina y un motor eléctrico para lograr un rendimiento económico. Año: 2022 - 0.5789843797683716\n",
      "El carro eléctrico Nissan Leaf es ecológico y eficiente, con una autonomía amplia y características avanzadas de carga. Año: 2022 - 0.5691136121749878\n",
      "El carro eléctrico Tesla Model S es una opción ecológica, con cero emisiones y un rendimiento eficiente. Año: 2022 - 0.5246874094009399\n",
      "El hatchback compacto Ford Focus es ágil y divertido de conducir, con tecnología innovadora y eficiencia en el consumo de combustible. Año: 2021 - 0.48666730523109436\n",
      "El hatchback compacto Volkswagen Golf es ágil y perfecto para la conducción en la ciudad. Año: 2023 - 0.35622867941856384\n",
      "El sedán deportivo Audi A4 es elegante y aerodinámico, con líneas fluidas que le otorgan un aspecto moderno. Año: 2022 - 0.3499956727027893\n",
      "La camioneta todoterreno Toyota 4Runner es resistente y capaz de enfrentar terrenos accidentados, con tracción en las cuatro ruedas y una gran capacidad de remolque. Año: 2022 - 0.33257541060447693\n",
      "El coupé deportivo Chevrolet Camaro es potente y llamativo, con un estilo retro y un rendimiento emocionante. Año: 2023 - 0.3055625557899475\n",
      "El SUV familiar Toyota Highlander es espacioso y versátil, ideal para viajes en familia o aventuras al aire libre. Año: 2021 - 0.30529293417930603\n",
      "El SUV familiar Honda CR-V es espacioso y versátil, con una gran capacidad de carga y características de seguridad avanzadas. Año: 2022 - 0.2853923738002777\n",
      "La camioneta pickup Ford F-150 es resistente y versátil, ideal para trabajos pesados y transportar carga. Año: 2021 - 0.2632142901420593\n",
      "El coupé deportivo BMW M4 es elegante y aerodinámico, con un rendimiento potente y una apariencia llamativa que atrae todas las miradas. Año: 2023 - 0.26263147592544556\n",
      "El convertible Mercedes-Benz E-Class es elegante y lujoso, con un techo retráctil y un interior refinado. Año: 2023 - 0.26234883069992065\n",
      "El descapotable clásico Volkswagen Beetle evoca la nostalgia y el estilo vintage, perfecto para paseos escénicos. Año: 2019 - 0.25716689229011536\n",
      "El descapotable clásico Ford Mustang es icónico y atemporal, con un diseño elegante y un motor potente. Año: 2023 - 0.24614493548870087\n",
      "La camioneta pickup Ram 1500 es resistente y versátil, con opciones de motores potentes y un interior espacioso. Año: 2021 - 0.24356351792812347\n",
      "El sedán deportivo BMW 3 Series es elegante y aerodinámico, con líneas fluidas y un rendimiento excepcional. Año: 2023 - 0.24172410368919373\n",
      "El convertible Mazda MX-5 Miata es elegante y emocionante, con la opción de disfrutar de la conducción al aire libre. Año: 2023 - 0.23044106364250183\n",
      "La camioneta todoterreno Jeep Wrangler es robusta y resistente, diseñada para superar terrenos difíciles. Año: 2022 - 0.19885443150997162\n"
     ]
    }
   ],
   "source": [
    "similarity.similarity(prompt, sentences)"
   ],
   "metadata": {
    "collapsed": false,
    "pycharm": {
     "name": "#%%\n"
    }
   }
  },
  {
   "cell_type": "code",
   "execution_count": 9,
   "outputs": [
    {
     "name": "stdout",
     "output_type": "stream",
     "text": [
      "===============\n",
      "String : carro verde hibrido alto eficiencia combustible ecologica\n",
      "compacto hibrido toyota corolla hybrid combinar motor gasolina motor electrico lograr eficiencia excepcional año 2022 - 0.834510326385498\n",
      "compacto hibrido toyota prius combin motor gasolina motor electrico lograr rendimiento economico año 2022 - 0.8067517876625061\n",
      "carro electrico tesla model opcion ecologicar cero emisionser rendimiento eficiente año 2022 - 0.7992621064186096\n",
      "hatchback compacto ford focus agil divertido conducir tecnologia innovadoro eficiencia consumo combustible año 2021 - 0.7514593005180359\n",
      "carro electrico nissan leaf ecologico eficiente autonomia amplio carga año 2022 - 0.7282708883285522\n",
      "convertible mercedes benz elegante lujoso techo retractil interior refinado año 2023 - 0.5512734651565552\n",
      "hatchback compacto volkswagen golf agil perfecto conduccion ciudad año 2023 - 0.5474035739898682\n",
      "sedan deportivo audi elegante aerodinamico linea fluido otorgar aspecto moderno año 2022 - 0.51080721616745\n",
      "suv familiar honda crm espacioso versatil carga seguridad año 2022 - 0.5081920623779297\n",
      "cupe deportivo chevrolet camaro poderoso llamativo retro rendimiento emocionante año 2023 - 0.49566638469696045\n",
      "descapotable clasico ford mustang iconico atemporal diseño elegante motor poderoso año 2023 - 0.4882294237613678\n",
      "convertible mazda mxn miata elegante emocionante opcion disfrutar conduccion aire libre año 2023 - 0.4716797471046448\n",
      "camioneta todoterreno toyota 4runner resistente capaz enfrentar terreno accidentado traccion rueda remolcar año 2022 - 0.460076242685318\n",
      "camioneta pickup ram 1500 resistente versatil opcion motor potente interior espacioso año 2021 - 0.44964367151260376\n",
      "sedan deportivo bmw 3 series elegante aerodinamico line fluido rendimiento excepcional año 2023 - 0.43216806650161743\n",
      "camioneta pickup ford f150 resistente versatil ideal pesado transportar carga año 2021 - 0.4202736020088196\n",
      "suv familiar toyota highlander espacioso versatil ideal viaje familia aventura aire libre año 2021 - 0.4111044406890869\n",
      "descapotable clasico volkswagen beetle evoco nostalgia vintage perfecto paseo escenico año 2019 - 0.37935230135917664\n",
      "camioneta todoterreno jeep wrangler robusta resistente diseñado superar terreno dificil año 2022 - 0.362324982881546\n",
      "cupe deportivo bmw elegante aerodinamico rendimiento poderoso apariencia llamativo atraer mirada año 2023 - 0.3377622663974762\n"
     ]
    }
   ],
   "source": [
    "similarity.similarity(modified_prompt, preprocessed_prompts)"
   ],
   "metadata": {
    "collapsed": false,
    "pycharm": {
     "name": "#%%\n"
    }
   }
  },
  {
   "cell_type": "code",
   "execution_count": null,
   "outputs": [],
   "source": [],
   "metadata": {
    "collapsed": false,
    "pycharm": {
     "name": "#%%\n"
    }
   }
  }
 ],
 "metadata": {
  "kernelspec": {
   "display_name": "Python 3",
   "language": "python",
   "name": "python3"
  },
  "language_info": {
   "codemirror_mode": {
    "name": "ipython",
    "version": 2
   },
   "file_extension": ".py",
   "mimetype": "text/x-python",
   "name": "python",
   "nbconvert_exporter": "python",
   "pygments_lexer": "ipython2",
   "version": "2.7.6"
  }
 },
 "nbformat": 4,
 "nbformat_minor": 0
}