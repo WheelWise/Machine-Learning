{
 "cells": [
  {
   "cell_type": "code",
   "execution_count": 7,
   "metadata": {
    "collapsed": true,
    "pycharm": {
     "name": "#%%\n"
    }
   },
   "outputs": [
    {
     "name": "stderr",
     "output_type": "stream",
     "text": [
      "[nltk_data] Downloading package stopwords to\n",
      "[nltk_data]     C:\\Users\\rodrimen\\AppData\\Roaming\\nltk_data...\n",
      "[nltk_data]   Package stopwords is already up-to-date!\n"
     ]
    }
   ],
   "source": [
    "\"\"\"\n",
    "Natural Language Preprocessing\n",
    "By : Rodrigo Mendoza\n",
    "\n",
    "    Packages to install:\n",
    "        pip install googletrans==3.1.0a0\n",
    "        pip install -U pip setuptools wheel\n",
    "        pip install -U spacy\n",
    "        python -m spacy download es_core_news_sm\n",
    "        pip install nltk\n",
    "        pip install pyspellchecker\n",
    "\"\"\"\n",
    "import re\n",
    "from googletrans import Translator\n",
    "import spacy\n",
    "from nltk.stem import SnowballStemmer\n",
    "from nltk.corpus import stopwords\n",
    "from nltk import download\n",
    "from spellchecker import SpellChecker\n",
    "import language_tool_python\n",
    "import text_to_num\n",
    "from functools import lru_cache\n",
    "import timeit\n",
    "\n",
    "# Download NLTK resources\n",
    "download('stopwords')\n",
    "SPANISH_STOPWORDS = stopwords.words('spanish')\n",
    "\n",
    "# Load spaCy accurate model\n",
    "# NLP = spacy.load('es_dep_news_trf')\n",
    "# Load spaCy efficient model\n",
    "NLP = spacy.load('es_core_news_sm')\n",
    "\n",
    "# Load additional stopwords\n",
    "with open('spanish_stopwords.txt', 'r') as file:\n",
    "    ADDITIONAL_STOPWORDS = file.read().splitlines()\n",
    "STOPWORDS = SPANISH_STOPWORDS + ADDITIONAL_STOPWORDS\n",
    "TOOL = language_tool_python.LanguageTool('es-MX')\n",
    "\n",
    "# Load car makes and models\n",
    "with open('car_makes.txt', 'r') as file:\n",
    "    car_makes = file.read().splitlines()\n",
    "with open('car_models.txt', 'r') as file:\n",
    "    car_models = file.read().splitlines()\n",
    "CAR_MODEL_MAKES = car_makes + car_models\n",
    "\n",
    "# Create spellchecker instance\n",
    "SPANISH_SPELL_CHECKER = SpellChecker(language='es')\n",
    "\n",
    "# Regex compilations for additional performance\n",
    "EMAIL_PATTERN = re.compile(r'\\S*@\\S*\\s?')\n",
    "MENTION_PATTERN = re.compile(r'@\\S*\\s?')\n",
    "URL_PATTERN = re.compile(r'http\\S+|www.\\S+')\n",
    "# symbols_punctuations_pattern = re.compile(r'\\?|\\\\|\\!|\\\"|\\#|\\$|\\%|\\&|\\'|\\[|\\^|\\||\\,|\\¿|\\¡|\\_|\\=|\\>|\\[|\\^|\\`|\\{\n",
    "# |\\}|\\~|\\[|\\]|\\*|\\+|\\@|\\/|\\-|\\:|\\?|\\¡|\\¿||\\.|\\\\|\\“|\\”|\\(|\\)|\\;|\\’|\\;|\\`|\\´|\\-|\\·|\\<|\\º|\\ª')\n",
    "SYMBOL_PATTERN = re.compile(r'[^\\w\\sñ]')\n",
    "SPECIAL_CASE_1 = re.compile(r'\\nd')\n",
    "SPECIAL_CASE_2 = re.compile(r'\\n')\n",
    "HASTAG_PATTERN = re.compile(r'\\B(\\#[a-zA-Z]+\\b)(?!;)')\n",
    "WORD_LENGTH_PATTERN = re.compile(r'\\b(?!\\d)\\w{1,2}\\b')\n",
    "A_ACCENT_PATTERN = re.compile(r'[áàäâ]')\n",
    "E_ACCENT_PATTERN = re.compile(r'[éèëê]')\n",
    "I_ACCENT_PATTERN = re.compile(r'[íìïî]')\n",
    "O_ACCENT_PATTERN = re.compile(r'[óòöô]')\n",
    "U_ACCENT_PATTERN = re.compile(r'[úùüû]')\n",
    "ALPHA_NUMERIC_PATTERN = re.compile(r'[^a-zA-Z\\d|\\s|ñ]')"
   ]
  },
  {
   "cell_type": "code",
   "execution_count": 8,
   "outputs": [],
   "source": [
    "@lru_cache(maxsize=None)\n",
    "def transform_prompt(prompt):\n",
    "    prompt = strip_formatting(prompt)\n",
    "    # prompt = translate_prompt(prompt)\n",
    "    prompt = correct_spelling(prompt)\n",
    "    prompt = lemmatize_prompt(prompt)\n",
    "    prompt = convert_to_numeric(prompt)\n",
    "    prompt = remove_stopwords(prompt)\n",
    "    prompt = strip_formatting(prompt)\n",
    "\n",
    "    return prompt\n",
    "\n",
    "\n",
    "def strip_formatting(prompt):\n",
    "    prompt = prompt.lower()\n",
    "\n",
    "    replace_to_word = [A_ACCENT_PATTERN, E_ACCENT_PATTERN, I_ACCENT_PATTERN, O_ACCENT_PATTERN, U_ACCENT_PATTERN]\n",
    "    word_to_replace = ['a', 'e', 'i', 'o', 'u']\n",
    "    for pattern in replace_to_word:\n",
    "        prompt = pattern.sub(word_to_replace[replace_to_word.index(pattern)], prompt)\n",
    "\n",
    "    replace_to_blank = [EMAIL_PATTERN, MENTION_PATTERN, URL_PATTERN, SYMBOL_PATTERN, SPECIAL_CASE_1, SPECIAL_CASE_2,\n",
    "                        HASTAG_PATTERN, WORD_LENGTH_PATTERN, ALPHA_NUMERIC_PATTERN]\n",
    "    for pattern in replace_to_blank:\n",
    "        prompt = pattern.sub('', prompt)\n",
    "\n",
    "\n",
    "\n",
    "    return prompt\n",
    "\n",
    "\n",
    "def translate_prompt(prompt):\n",
    "    translator = Translator()\n",
    "    prompt = translator.translate(prompt, dest='es').text\n",
    "    return prompt.lower()\n",
    "\n",
    "\n",
    "def stem_prompt(prompt):\n",
    "    stemmer = SnowballStemmer('spanish')\n",
    "    return stemmer.stem(prompt)\n",
    "\n",
    "\n",
    "def lemmatize_prompt(prompt):\n",
    "    nlp_prompt = NLP(prompt)\n",
    "    # open cars makes and models to excluse them from the lemmatization\n",
    "\n",
    "    prompt = ' '.join([word.lemma_ if word.text not in CAR_MODEL_MAKES else word.text for word in nlp_prompt])\n",
    "    return prompt\n",
    "\n",
    "\n",
    "def remove_stopwords(prompt):\n",
    "    words = re.findall(r'\\w+', prompt, flags=re.UNICODE)\n",
    "    important_words = (word for word in words if word not in STOPWORDS)\n",
    "    prompt = ' '.join(important_words)\n",
    "    return prompt\n",
    "\n",
    "\n",
    "def correct_spelling(prompt):\n",
    "    list_of_words = prompt.split()\n",
    "    \"\"\"corrections = {word: SPANISH_SPELL_CHECKER.correction(word) if SPANISH_SPELL_CHECKER.correction(word) is not None\n",
    "                   else word for word in list_of_words if\n",
    "                   word not in CAR_MODEL_MAKES}\n",
    "    prompt = ' '.join([corrections.get(word, word) for word in list_of_words])\"\"\"\n",
    "\n",
    "    corrections = {word: TOOL.correct(word) if TOOL.correct(word) is not None\n",
    "                   else word for word in list_of_words if\n",
    "                   word not in CAR_MODEL_MAKES}\n",
    "    prompt = ' '.join([corrections.get(word, word) for word in list_of_words])\n",
    "\n",
    "    return prompt\n",
    "\n",
    "\n",
    "def convert_to_numeric(prompt):\n",
    "    return text_to_num.text2num(prompt)"
   ],
   "metadata": {
    "collapsed": false,
    "pycharm": {
     "name": "#%%\n"
    }
   }
  },
  {
   "cell_type": "code",
   "execution_count": 9,
   "outputs": [
    {
     "name": "stdout",
     "output_type": "stream",
     "text": [
      "coche familiar amplio comodo viaje sistema entretenimiento pasajero trasero color azul\n",
      "Time:  4.517982499999562\n"
     ]
    }
   ],
   "source": [
    "start = timeit.default_timer()\n",
    "\n",
    "print(transform_prompt(\n",
    "        \"Quiero un coche familiar que sea amplio y cómodo para viajes largos, con un sistema de entretenimiento para los pasajeros traseros y que sea de color azul.\"))\n",
    "\n",
    "\n",
    "stop = timeit.default_timer()\n",
    "\n",
    "print('Time: ', stop - start)\n"
   ],
   "metadata": {
    "collapsed": false,
    "pycharm": {
     "name": "#%%\n"
    }
   }
  },
  {
   "cell_type": "code",
   "execution_count": null,
   "outputs": [],
   "source": [],
   "metadata": {
    "collapsed": false,
    "pycharm": {
     "name": "#%%\n"
    }
   }
  }
 ],
 "metadata": {
  "kernelspec": {
   "display_name": "Python 3",
   "language": "python",
   "name": "python3"
  },
  "language_info": {
   "codemirror_mode": {
    "name": "ipython",
    "version": 2
   },
   "file_extension": ".py",
   "mimetype": "text/x-python",
   "name": "python",
   "nbconvert_exporter": "python",
   "pygments_lexer": "ipython2",
   "version": "2.7.6"
  }
 },
 "nbformat": 4,
 "nbformat_minor": 0
}