{
 "cells": [
  {
   "cell_type": "code",
   "execution_count": 4,
   "outputs": [
    {
     "name": "stderr",
     "output_type": "stream",
     "text": [
      "[nltk_data] Downloading package stopwords to\n",
      "[nltk_data]     C:\\Users\\rodrimen\\AppData\\Roaming\\nltk_data...\n",
      "[nltk_data]   Package stopwords is already up-to-date!\n"
     ]
    }
   ],
   "source": [
    "\"\"\"\n",
    "Natural Language Preprocessing\n",
    "By : Rodrigo Mendoza\n",
    "\n",
    "    Packages to install:\n",
    "        pip install -U pip setuptools wheel\n",
    "        pip install -U spacy\n",
    "        python -m spacy download es_core_news_sm\n",
    "        pip install nltk\n",
    "        pip install pyspellchecker\n",
    "\"\"\"\n",
    "import re\n",
    "import spacy\n",
    "from nltk.stem import SnowballStemmer\n",
    "from nltk.corpus import stopwords\n",
    "from nltk import download\n",
    "import language_tool_python\n",
    "import text_to_num\n",
    "from functools import lru_cache\n",
    "import timeit\n",
    "\n",
    "# Download NLTK resources\n",
    "download('stopwords')\n",
    "SPANISH_STOPWORDS = stopwords.words('spanish')\n",
    "\n",
    "# Load spaCy accurate model\n",
    "# NLP = spacy.load('es_dep_news_trf')\n",
    "# Load spaCy efficient model\n",
    "NLP = spacy.load('es_core_news_sm')\n",
    "\n",
    "# Load additional stopwords\n",
    "with open('spanish_stopwords', 'r', encoding='utf-8') as file:\n",
    "    ADDITIONAL_STOPWORDS = file.read().splitlines()\n",
    "STOPWORDS = SPANISH_STOPWORDS + ADDITIONAL_STOPWORDS\n",
    "TOOL = language_tool_python.LanguageTool('es-MX')\n",
    "\n",
    "\n",
    "with open('go_words', 'r', encoding='utf-8') as file:\n",
    "    go_words = file.read().splitlines()\n",
    "GO_WORDS = go_words\n",
    "\n",
    "\n",
    "# Regex compilations for additional performance\n",
    "EMAIL_PATTERN = re.compile(r'\\S*@\\S*\\s?')\n",
    "MENTION_PATTERN = re.compile(r'@\\S*\\s?')\n",
    "URL_PATTERN = re.compile(r'http\\S+|www.\\S+')\n",
    "# symbols_punctuations_pattern = re.compile(r'\\?|\\\\|\\!|\\\"|\\#|\\$|\\%|\\&|\\'|\\[|\\^|\\||\\,|\\¿|\\¡|\\_|\\=|\\>|\\[|\\^|\\`|\\{\n",
    "# |\\}|\\~|\\[|\\]|\\*|\\+|\\@|\\/|\\-|\\:|\\?|\\¡|\\¿||\\.|\\\\|\\“|\\”|\\(|\\)|\\;|\\’|\\;|\\`|\\´|\\-|\\·|\\<|\\º|\\ª')\n",
    "SYMBOL_PATTERN = re.compile(r'[^\\w\\sñ]')\n",
    "SPECIAL_CASE_1 = re.compile(r'\\nd')\n",
    "SPECIAL_CASE_2 = re.compile(r'\\n')\n",
    "HASTAG_PATTERN = re.compile(r'\\B(\\#[a-zA-Z]+\\b)(?!;)')\n",
    "WORD_LENGTH_PATTERN = re.compile(r'\\b(?!\\d)\\w{1,2}\\b')\n",
    "A_ACCENT_PATTERN = re.compile(r'[áàäâ]')\n",
    "E_ACCENT_PATTERN = re.compile(r'[éèëê]')\n",
    "I_ACCENT_PATTERN = re.compile(r'[íìïî]')\n",
    "O_ACCENT_PATTERN = re.compile(r'[óòöô]')\n",
    "U_ACCENT_PATTERN = re.compile(r'[úùüû]')\n",
    "ALPHA_NUMERIC_PATTERN = re.compile(r'[^a-zA-Z\\d|\\s|ñ]')"
   ],
   "metadata": {
    "collapsed": false,
    "pycharm": {
     "name": "#%%\n"
    }
   }
  },
  {
   "cell_type": "code",
   "execution_count": 5,
   "outputs": [],
   "source": [
    "\n",
    "class Preprocessing:\n",
    "\n",
    "    def __init__(self):\n",
    "        self.prompt = ''\n",
    "\n",
    "    @lru_cache(maxsize=None)\n",
    "    def transform_prompt(self, prompt):\n",
    "        self.prompt = prompt\n",
    "        self.correct_spelling()\n",
    "        self.strip_formatting()\n",
    "        self.lemmatize_prompt()\n",
    "        self.stem_prompt()\n",
    "        self.convert_to_numeric()\n",
    "        self.strip_formatting()\n",
    "        self.remove_stopwords()\n",
    "\n",
    "        return self.prompt\n",
    "\n",
    "    @lru_cache(maxsize=None)\n",
    "    def transform_prompt_without_stem(self, prompt):\n",
    "        self.prompt = prompt\n",
    "        self.correct_spelling()\n",
    "        self.strip_formatting()\n",
    "        self.lemmatize_prompt()\n",
    "        self.convert_to_numeric()\n",
    "        self.strip_formatting()\n",
    "        self.remove_stopwords()\n",
    "\n",
    "        return self.prompt\n",
    "\n",
    "    def strip_formatting(self):\n",
    "        self.prompt = self.prompt.lower()\n",
    "\n",
    "        replace_to_word = [A_ACCENT_PATTERN, E_ACCENT_PATTERN, I_ACCENT_PATTERN, O_ACCENT_PATTERN, U_ACCENT_PATTERN]\n",
    "        word_to_replace = ['a', 'e', 'i', 'o', 'u']\n",
    "        for pattern in replace_to_word:\n",
    "            self.prompt = pattern.sub(word_to_replace[replace_to_word.index(pattern)], self.prompt)\n",
    "\n",
    "        replace_to_blank = [EMAIL_PATTERN, MENTION_PATTERN, URL_PATTERN, SYMBOL_PATTERN, SPECIAL_CASE_1, SPECIAL_CASE_2,\n",
    "                            HASTAG_PATTERN, WORD_LENGTH_PATTERN, ALPHA_NUMERIC_PATTERN]\n",
    "        for pattern in replace_to_blank:\n",
    "            self.prompt = pattern.sub('', self.prompt)\n",
    "\n",
    "    def stem_prompt(self):\n",
    "        stemmer = SnowballStemmer('spanish')\n",
    "        self.prompt = stemmer.stem(self.prompt)\n",
    "\n",
    "    def lemmatize_prompt(self):\n",
    "        nlp_prompt = NLP(self.prompt)\n",
    "        # open cars makes and models to excluse them from the lemmatization\n",
    "\n",
    "        self.prompt = ' '.join([word.lemma_ if word.text not in GO_WORDS else word.text for word in nlp_prompt])\n",
    "\n",
    "    def remove_stopwords(self):\n",
    "        words = re.findall(r'\\w+', self.prompt, flags=re.UNICODE)\n",
    "        important_words = (word for word in words if word not in STOPWORDS or word in GO_WORDS)\n",
    "        self.prompt = ' '.join(important_words)\n",
    "\n",
    "    def correct_spelling(self):\n",
    "        list_of_words = self.prompt.split()\n",
    "        \"\"\"corrections = {word: SPANISH_SPELL_CHECKER.correction(word) if SPANISH_SPELL_CHECKER.correction(word) is not None\n",
    "                       else word for word in list_of_words if\n",
    "                       word not in CAR_MODEL_MAKES}\n",
    "        self.prompt = ' '.join([corrections.get(word, word) for word in list_of_words])\"\"\"\n",
    "\n",
    "        corrections = {word: TOOL.correct(word) if TOOL.correct(word) is not None\n",
    "        else word for word in list_of_words if\n",
    "                       word not in GO_WORDS}\n",
    "        self.prompt = ' '.join([corrections.get(word, word) for word in list_of_words])\n",
    "\n",
    "    def convert_to_numeric(self):\n",
    "        self.prompt = text_to_num.text2num(self.prompt)"
   ],
   "metadata": {
    "collapsed": false,
    "pycharm": {
     "name": "#%%\n"
    }
   }
  },
  {
   "cell_type": "code",
   "execution_count": null,
   "outputs": [],
   "source": [
    "preprocessing = Preprocessing()\n",
    "start = timeit.default_timer()\n",
    "\n",
    "with open('prompts', 'r', encoding='utf-8') as file:\n",
    "    prompts = file.read().splitlines()\n",
    "\n",
    "with open('preprocessed_prompts_stemming', 'w') as file:\n",
    "    for prompt in prompts:\n",
    "        file.write(preprocessing.transform_prompt(prompt) + '\\n')\n",
    "\n",
    "with open('preprocessed_prompts', 'w') as file:\n",
    "    for prompt in prompts:\n",
    "        file.write(preprocessing.transform_prompt_without_stem(prompt) + '\\n')\n",
    "\n",
    "\n",
    "\n",
    "stop = timeit.default_timer()\n",
    "\n",
    "print('Time: ', stop - start)\n"
   ],
   "metadata": {
    "collapsed": false,
    "pycharm": {
     "name": "#%%\n"
    }
   }
  },
  {
   "cell_type": "code",
   "execution_count": 56,
   "outputs": [
    {
     "name": "stdout",
     "output_type": "stream",
     "text": [
      "camioneta pickup gris oscuro remolcar pesado\n"
     ]
    }
   ],
   "source": [],
   "metadata": {
    "collapsed": false,
    "pycharm": {
     "name": "#%%\n"
    }
   }
  },
  {
   "cell_type": "code",
   "execution_count": 64,
   "outputs": [
    {
     "name": "stdout",
     "output_type": "stream",
     "text": [
      "[('coche', 42), ('tecnologia', 27), ('suv', 23), ('camioneta', 22), ('pasajero', 21), ('negro', 21), ('deportivo', 19), ('lujo', 18), ('seguridad', 17), ('azul', 17), ('rojo', 16), ('plateado', 15), ('combustible', 15), ('gris', 15), ('alto', 14), ('clasico', 14), ('pesado', 14), ('oscuro', 14), ('sedan', 13), ('blanco', 12), ('pickup', 11), ('transmision', 11), ('asiento', 11), ('cuero', 11), ('todoterreno', 11), ('4', 10), ('minivan', 10), ('eficiencia', 10), ('vintage', 10), ('4x4', 10), ('compacto', 9), ('hibrido', 9), ('remolcar', 9), ('traccion', 8), ('ecologico', 8), ('mediano', 7), ('7', 7), ('rueda', 7), ('cargo', 7), ('8', 7), ('verde', 7), ('automatico', 6), ('nostalgico', 6), ('electrico', 6), ('grande', 6), ('elegante', 5), ('consumo', 5), ('entretenimiento', 5), ('amarillo', 5), ('manual', 5), ('sistema', 5), ('moderno', 5), ('convertible', 5), ('confort', 5), ('techo', 4), ('solar', 4), ('elegancia', 4), ('puerta', 3), ('premium', 3), ('5', 3), ('6', 3), ('claro', 3), ('velocidad', 3), ('pequeño', 2), ('blanca', 2), ('panoramico', 2), ('sonido', 2), ('per', 2), ('cabina', 2), ('color', 2), ('2', 1), ('tamaño', 1), ('completo', 1), ('remolque', 1), ('navegacion', 1), ('incorporado', 1), ('militar', 1), ('audio', 1), ('calidad', 1), ('delantero', 1), ('blancar', 1), ('marino', 1), ('doble', 1), ('conduccion', 1), ('asistido', 1), ('9', 1), ('conectividad', 1), ('mate', 1), ('sencillo', 1), ('toldo', 1), ('faro', 1), ('led', 1), ('quemacoco', 1), ('familiar', 1), ('cilindro', 1), ('cajuelar', 1), ('cajuela', 1), ('hatchback', 1)]\n"
     ]
    }
   ],
   "source": [
    "# Most common words in the file\n",
    "\n",
    "words_dict = {}\n",
    "with open('preprocessed_prompts', 'r') as f:\n",
    "    while True:\n",
    "        line = f.readline()\n",
    "        if not line:\n",
    "            break\n",
    "        words = line.split()\n",
    "        for word in words:\n",
    "            if word in words_dict:\n",
    "                words_dict[word] += 1\n",
    "            else:\n",
    "                words_dict[word] = 1\n",
    "sorted_words_by_number = sorted(words_dict.items(), key=lambda x:x[1], reverse=True)\n",
    "print(sorted_words_by_number)"
   ],
   "metadata": {
    "collapsed": false,
    "pycharm": {
     "name": "#%%\n"
    }
   }
  },
  {
   "cell_type": "code",
   "execution_count": null,
   "outputs": [],
   "source": [],
   "metadata": {
    "collapsed": false,
    "pycharm": {
     "name": "#%%\n"
    }
   }
  }
 ],
 "metadata": {
  "kernelspec": {
   "display_name": "Python 3",
   "language": "python",
   "name": "python3"
  },
  "language_info": {
   "codemirror_mode": {
    "name": "ipython",
    "version": 2
   },
   "file_extension": ".py",
   "mimetype": "text/x-python",
   "name": "python",
   "nbconvert_exporter": "python",
   "pygments_lexer": "ipython2",
   "version": "2.7.6"
  }
 },
 "nbformat": 4,
 "nbformat_minor": 0
}